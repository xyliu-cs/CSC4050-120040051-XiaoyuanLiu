{
 "cells": [
  {
   "cell_type": "code",
   "execution_count": null,
   "metadata": {},
   "outputs": [],
   "source": [
    "print(\"I am fine\")"
   ]
  },
  {
   "cell_type": "code",
   "execution_count": null,
   "metadata": {},
   "outputs": [],
   "source": [
    "import torch\n",
    "device = \"cuda\" if torch.cuda.is_available() else \"cpu\"\n",
    "device"
   ]
  },
  {
   "cell_type": "code",
   "execution_count": null,
   "metadata": {},
   "outputs": [],
   "source": [
    "from transformers import LlamaForCausalLM, LlamaTokenizer\n",
    "\n",
    "tokenizer = LlamaTokenizer.from_pretrained(\"/120040051/hf_llama2\")\n",
    "model = LlamaForCausalLM.from_pretrained(\"/120040051/hf_llama2\").to(device)"
   ]
  },
  {
   "cell_type": "code",
   "execution_count": null,
   "metadata": {},
   "outputs": [],
   "source": [
    "def calculate_perplexity(sentence, tokenizer, model, device):\n",
    "    model.eval()  # Ensure the model is in evaluation mode\n",
    "    # Tokenize the input sentence\n",
    "    encodings = tokenizer(sentence, return_tensors=\"pt\")\n",
    "\n",
    "    # Move encodings to the same device as the model\n",
    "    input_ids = encodings.input_ids.to(device)\n",
    "    target_ids = input_ids.clone()\n",
    "    attention_mask = encodings.attention_mask.to(device)\n",
    "\n",
    "    # Calculate Negative Log-Likelihood\n",
    "    with torch.no_grad():\n",
    "        outputs = model(input_ids, labels=target_ids, attention_mask=attention_mask)\n",
    "        neg_log_likelihood = outputs.loss * input_ids.size(1)  # Multiply by sequence length\n",
    "\n",
    "    # Calculate Perplexity and append to list\n",
    "    ppl = torch.exp(neg_log_likelihood / input_ids.size(1))  # Divide by sequence length\n",
    "    perplexity = ppl.item()\n",
    "\n",
    "    return perplexity"
   ]
  },
  {
   "cell_type": "markdown",
   "metadata": {},
   "source": [
    "### WARNING: High Computing Resources Required"
   ]
  },
  {
   "cell_type": "code",
   "execution_count": null,
   "metadata": {},
   "outputs": [],
   "source": [
    "import json\n",
    "with open(\"../sentence_parse/tmp_compositional_sents.json\", 'r') as f:\n",
    "    j_data = json.load(f)\n",
    "print(\"Loading Complete\")\n",
    "\n",
    "sent_list = j_data[\"data\"]\n",
    "sent_list_ppl = []\n",
    "\n",
    "\n",
    "i = 0\n",
    "for sent_dict in sent_list:\n",
    "    sub = sent_dict[\"subj\"]\n",
    "    if sub in ['A car bomb', 'A doctor', 'A person']: # compromise for now\n",
    "        text = sent_dict[\"text\"]\n",
    "        ppl = calculate_perplexity(text, tokenizer, model, device)\n",
    "        sent_dict[\"ppl\"] = round(ppl, 2)\n",
    "        sent_list_ppl.append(sent_dict)\n",
    "        i += 1\n",
    "    if (i % 1000 == 0):\n",
    "        print(f\"Processed {i} sentences\")\n",
    "print(f\"Processed {i} sentences\")\n",
    "j_data[\"data\"] = sent_list_ppl\n",
    "\n",
    "outfile = \"sentence_table_3_subjs.json\"\n",
    "\n",
    "print(f\"Writing the results to {outfile}, ...\")\n",
    "with open(outfile, 'w') as f:\n",
    "    json.dump(j_data, f)\n",
    "print(\"Writing complete\")"
   ]
  },
  {
   "cell_type": "code",
   "execution_count": null,
   "metadata": {},
   "outputs": [],
   "source": [
    "sent1 = \"A man is eating pizza in the restaurant.\"\n",
    "perplexity_values = calculate_perplexity(sent1, tokenizer, model, device)\n",
    "print(perplexity_values)"
   ]
  }
 ],
 "metadata": {
  "kernelspec": {
   "display_name": "Python 3",
   "language": "python",
   "name": "python3"
  },
  "language_info": {
   "codemirror_mode": {
    "name": "ipython",
    "version": 3
   },
   "file_extension": ".py",
   "mimetype": "text/x-python",
   "name": "python",
   "nbconvert_exporter": "python",
   "pygments_lexer": "ipython3",
   "version": "3.11.7"
  }
 },
 "nbformat": 4,
 "nbformat_minor": 4
}
