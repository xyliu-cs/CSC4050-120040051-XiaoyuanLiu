{
 "cells": [
  {
   "cell_type": "code",
   "execution_count": null,
   "metadata": {},
   "outputs": [],
   "source": [
    "with open(\"../raw_results/flore_200/subjects.txt\", 'r') as file1:\n",
    "    subjs = [line.strip() for line in file1.readlines()]\n",
    "\n",
    "subj_small = subjs[:10].copy()\n",
    "\n",
    "for subj in subj_small:\n",
    "    print(subj)"
   ]
  },
  {
   "cell_type": "code",
   "execution_count": null,
   "metadata": {},
   "outputs": [],
   "source": [
    "import json\n",
    "\n",
    "with open('../raw_results/flore_200/verb_phrases.json', 'r') as file2:\n",
    "    # Parse the JSON data from the file into a Python dictionary\n",
    "    verb_dict = json.load(file2)\n",
    "\n",
    "transitive_dict = verb_dict[\"transitive\"]\n",
    "vps_small_flat_t = []\n",
    "\n",
    "for i, (verb, obj_list) in enumerate(transitive_dict.items()):\n",
    "    if i >= 10:\n",
    "        break\n",
    "    for obj in obj_list:\n",
    "        vps_small_flat_t.append(verb + ' ' + obj)\n",
    "\n",
    "for vp in vps_small_flat_t:\n",
    "    print(vp)"
   ]
  },
  {
   "cell_type": "code",
   "execution_count": null,
   "metadata": {},
   "outputs": [],
   "source": [
    "with open(\"../raw_results/flore_200/locs.txt\", 'r') as file3:\n",
    "    locs = [line.strip() for line in file3.readlines()]\n",
    "\n",
    "locs_small = locs[:10].copy()\n",
    "for loc in locs_small:\n",
    "    print(loc)"
   ]
  },
  {
   "cell_type": "code",
   "execution_count": null,
   "metadata": {},
   "outputs": [],
   "source": [
    "with open(\"tmp_compositional_sents.json\", 'w') as out:\n",
    "    sent_list = []\n",
    "    i = 1\n",
    "    for sub in subj_small:\n",
    "        for loc in locs_small:\n",
    "            for vp in vps_small_flat_t:\n",
    "                local = {}\n",
    "                # who + doing what + at where\n",
    "                local[\"id\"] = i\n",
    "                local[\"subj\"] = sub\n",
    "                local[\"vp\"] = vp\n",
    "                local[\"loc\"] = loc\n",
    "                local[\"text\"] = sub + ' ' + vp + ' ' + loc\n",
    "                # print(local[\"text\"])\n",
    "                sent_list.append(local)\n",
    "                i += 1\n",
    "    j_f = {'data': sent_list}\n",
    "    json.dump(j_f, out)"
   ]
  }
 ],
 "metadata": {
  "kernelspec": {
   "display_name": "spacy",
   "language": "python",
   "name": "python3"
  },
  "language_info": {
   "codemirror_mode": {
    "name": "ipython",
    "version": 3
   },
   "file_extension": ".py",
   "mimetype": "text/x-python",
   "name": "python",
   "nbconvert_exporter": "python",
   "pygments_lexer": "ipython3",
   "version": "3.10.13"
  }
 },
 "nbformat": 4,
 "nbformat_minor": 2
}
