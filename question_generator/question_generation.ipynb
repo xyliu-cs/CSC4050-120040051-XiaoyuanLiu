{
  "nbformat": 4,
  "nbformat_minor": 0,
  "metadata": {
    "colab": {
      "provenance": [],
      "collapsed_sections": [
        "2jScnoNSrWAV",
        "fv8YsTQFjndL",
        "moceLPp5jzfp",
        "cQ7GruNee7md"
      ]
    },
    "kernelspec": {
      "name": "python3",
      "display_name": "Python 3"
    },
    "language_info": {
      "name": "python"
    }
  },
  "cells": [
    {
      "cell_type": "code",
      "source": [
        "!pip install -U sentence-transformers"
      ],
      "metadata": {
        "id": "o_C0LJNpRBkj"
      },
      "execution_count": null,
      "outputs": []
    },
    {
      "cell_type": "markdown",
      "source": [
        "## Synonym Filtereing Model\n",
        "**Phrase-BERT**: Improved Phrase Embeddings from BERT with an Application to Corpus Exploration (EMNLP, 2020)\n",
        "\n",
        "[[Paper]](https://arxiv.org/pdf/2109.06304.pdf) [[Hugging Face]](https://huggingface.co/whaleloops/phrase-bert)"
      ],
      "metadata": {
        "id": "l7hmEGCmk0RM"
      }
    },
    {
      "cell_type": "code",
      "source": [
        "from sentence_transformers import SentenceTransformer\n",
        "\n",
        "model = SentenceTransformer('whaleloops/phrase-bert')"
      ],
      "metadata": {
        "id": "yX5Jda49RFCv"
      },
      "execution_count": null,
      "outputs": []
    },
    {
      "cell_type": "code",
      "source": [
        "import torch\n",
        "from torch import nn\n",
        "# place ground-truth sentence at phrase_list[0], distractor at phrase_list[1]\n",
        "def check_cos_sim(model, phrase_list, threshold):\n",
        "    phrase_embs = model.encode(phrase_list)\n",
        "    [gt, dt, op1, op2, op3] = phrase_embs\n",
        "    cos_sim = nn.CosineSimilarity(dim=0)\n",
        "    all_distant = True\n",
        "    # closeness = []\n",
        "    cos_sim_list = []\n",
        "    cos_sim_list.append(cos_sim(torch.tensor(gt), torch.tensor(dt)))\n",
        "    cos_sim_list.append(cos_sim(torch.tensor(gt), torch.tensor(op1)))\n",
        "    cos_sim_list.append(cos_sim(torch.tensor(gt), torch.tensor(op2)))\n",
        "    cos_sim_list.append(cos_sim(torch.tensor(gt), torch.tensor(op3)))\n",
        "\n",
        "    cos_sim_list.append(cos_sim(torch.tensor(dt), torch.tensor(op1)))\n",
        "    cos_sim_list.append(cos_sim(torch.tensor(dt), torch.tensor(op2)))\n",
        "    cos_sim_list.append(cos_sim(torch.tensor(dt), torch.tensor(op3)))\n",
        "\n",
        "    for i in range(len(cos_sim_list)):\n",
        "        if cos_sim_list[i] > threshold:\n",
        "            # closeness.append((i//4, (i//4)+(i%4)+1))\n",
        "            all_distant = False\n",
        "            print(f\"[{phrase_list[i//4]}] -  [{phrase_list[(i//4)+(i%4)+1]}]: {cos_sim_list[i]}; Current threshold is {threshold}\\n\")\n",
        "    return all_distant"
      ],
      "metadata": {
        "id": "P3PZTwh4Oneo"
      },
      "execution_count": null,
      "outputs": []
    },
    {
      "cell_type": "markdown",
      "source": [
        "## Read Raw Sentences"
      ],
      "metadata": {
        "id": "2jScnoNSrWAV"
      }
    },
    {
      "cell_type": "code",
      "source": [
        "import json\n",
        "\n",
        "with open(\"./sentence_lookups.json\", 'r') as f:\n",
        "    j_data = json.load(f)\n",
        "sent_data = j_data[\"data\"]"
      ],
      "metadata": {
        "id": "2PLIRhZoKt5Z"
      },
      "execution_count": null,
      "outputs": []
    },
    {
      "cell_type": "code",
      "source": [
        "subjs = []\n",
        "for sent_dict in sent_data:\n",
        "    if sent_dict['subj'] not in subjs:\n",
        "        subjs.append(sent_dict['subj'])\n",
        "print(subjs)"
      ],
      "metadata": {
        "id": "ZueUkTwrKwAm",
        "colab": {
          "base_uri": "https://localhost:8080/"
        },
        "outputId": "82e12d2b-4b4d-4d20-e74a-4afc63d9359c"
      },
      "execution_count": null,
      "outputs": [
        {
          "output_type": "stream",
          "name": "stdout",
          "text": [
            "['a person', 'a man', 'a woman', 'the dog', 'the car', 'the baby', 'the cat', 'the teacher', 'the sun', 'the president', 'the coyote', 'a child', 'the jury', 'a computer', 'the space shuttle', 'the telephone', 'the officer', 'the plant', 'a wallet', 'the farmer', 'a bird', 'the boat', 'a spider', 'the knife', 'a book', 'the waitress', 'parents', 'the glass', 'an owl', 'a ghost', 'a student', 'the dentist', 'the widow', 'a cake', 'a musician', 'the ground', 'the rabbit', 'a crazy man', 'the soldier', 'the boy', 'the police', 'the minister', 'the fireman', 'the hunter', 'a butcher', 'a doctor', 'the king', 'a teacher', 'the patient', 'a programmer']\n"
          ]
        }
      ]
    },
    {
      "cell_type": "markdown",
      "source": [
        "## Base Sentence"
      ],
      "metadata": {
        "id": "fv8YsTQFjndL"
      }
    },
    {
      "cell_type": "code",
      "source": [
        "import random\n",
        "base_sentences = []\n",
        "for subject in subjs:\n",
        "    compare_batch = []\n",
        "    for sent_dict in sent_data:\n",
        "            if sent_dict['subj'] == subject:\n",
        "                compare_batch.append(sent_dict)\n",
        "    assert(len(compare_batch) == 2500)\n",
        "    sorted_compare_list = sorted(compare_batch, key=lambda x: x['ppl'])\n",
        "    top_3_random = random.randint(0,2)\n",
        "    base_sentences.append(sorted_compare_list[top_3_random]) # introduce random because we want some discrepancies\n",
        "\n",
        "for item in base_sentences:\n",
        "    print(f\"[{item['id']}] {item['text']}, ppl = {item['ppl']}\")"
      ],
      "metadata": {
        "colab": {
          "base_uri": "https://localhost:8080/"
        },
        "id": "CYyzCHU6Lp29",
        "outputId": "f3f345a4-835c-440b-a462-5ad510c26070"
      },
      "execution_count": null,
      "outputs": [
        {
          "output_type": "stream",
          "name": "stdout",
          "text": [
            "[538] a person is riding a bicycle down the stairs, ppl = 17.19\n",
            "[4038] a man is riding a bicycle along the beach, ppl = 14.56\n",
            "[6959] a woman is driving a car in the countryside, ppl = 15.05\n",
            "[9488] the dog is riding a bicycle in the countryside, ppl = 13.88\n",
            "[11988] the car is riding a bicycle in the countryside, ppl = 20.3\n",
            "[13288] the baby is riding a bicycle in the refrigerator, ppl = 19.66\n",
            "[15788] the cat is riding a bicycle in the refrigerator, ppl = 18.61\n",
            "[18270] the teacher is eating a sandwich in the refrigerator, ppl = 20.12\n",
            "[21988] the sun is riding a bicycle in the countryside, ppl = 17.89\n",
            "[23270] the president is eating a sandwich in the refrigerator, ppl = 21.99\n",
            "[25779] the coyote is drinking from a bottle in the refrigerator, ppl = 17.11\n",
            "[28279] a child is drinking from a bottle in the refrigerator, ppl = 18.08\n",
            "[31988] the jury is riding a bicycle in the countryside, ppl = 19.73\n",
            "[33279] a computer is drinking from a bottle in the refrigerator, ppl = 26.17\n",
            "[35538] the space shuttle is riding a bicycle down the stairs, ppl = 19.43\n",
            "[38288] the telephone is riding a bicycle in the refrigerator, ppl = 23.71\n",
            "[41988] the officer is riding a bicycle in the countryside, ppl = 20.19\n",
            "[44488] the plant is riding a bicycle in the countryside, ppl = 24.96\n",
            "[45770] a wallet is eating a sandwich in the refrigerator, ppl = 25.46\n",
            "[49488] the farmer is riding a bicycle in the countryside, ppl = 12.36\n",
            "[50788] a bird is riding a bicycle in the refrigerator, ppl = 20.75\n",
            "[54473] the boat is lying on the ground in the countryside, ppl = 25.76\n",
            "[55779] a spider is drinking from a bottle in the refrigerator, ppl = 19.4\n",
            "[58288] the knife is riding a bicycle in the refrigerator, ppl = 23.01\n",
            "[60779] a book is drinking from a bottle in the refrigerator, ppl = 26.22\n",
            "[64488] the waitress is riding a bicycle in the countryside, ppl = 22.33\n",
            "[66988] parents are riding a bicycle in the countryside, ppl = 20.55\n",
            "[68291] the glass is settling on the shelf in the refrigerator, ppl = 21.97\n",
            "[71973] an owl is lying on the ground in the countryside, ppl = 19.77\n",
            "[73279] a ghost is drinking from a bottle in the refrigerator, ppl = 15.7\n",
            "[76988] a student is riding a bicycle in the countryside, ppl = 12.38\n",
            "[78279] the dentist is drinking from a bottle in the refrigerator, ppl = 20.57\n",
            "[81988] the widow is riding a bicycle in the countryside, ppl = 16.63\n",
            "[84488] a cake is riding a bicycle in the countryside, ppl = 17.24\n",
            "[86977] a musician is playing the violin in the countryside, ppl = 18.64\n",
            "[88299] the ground is cooking a meal in the refrigerator, ppl = 30.3\n",
            "[90788] the rabbit is riding a bicycle in the refrigerator, ppl = 16.83\n",
            "[94488] a crazy man is riding a bicycle in the countryside, ppl = 12.42\n",
            "[96970] the soldier is eating a sandwich in the countryside, ppl = 24.15\n",
            "[99488] the boy is riding a bicycle in the countryside, ppl = 11.25\n",
            "[100779] the police is drinking from a bottle in the refrigerator, ppl = 26.52\n",
            "[103279] the minister is drinking from a bottle in the refrigerator, ppl = 25.93\n",
            "[106988] the fireman is riding a bicycle in the countryside, ppl = 17.51\n",
            "[108279] the hunter is drinking from a bottle in the refrigerator, ppl = 18.99\n",
            "[111970] a butcher is eating a sandwich in the countryside, ppl = 20.12\n",
            "[113270] a doctor is eating a sandwich in the refrigerator, ppl = 22.21\n",
            "[116988] the king is riding a bicycle in the countryside, ppl = 15.46\n",
            "[119470] a teacher is eating a sandwich in the countryside, ppl = 21.37\n",
            "[120779] the patient is drinking from a bottle in the refrigerator, ppl = 21.38\n",
            "[123038] a programmer is riding a bicycle down the stairs, ppl = 26.22\n"
          ]
        }
      ]
    },
    {
      "cell_type": "code",
      "source": [
        "with open('base_sentences.txt', 'w') as f:\n",
        "    for item in base_sentences:\n",
        "        f.write(f\"[{item['id']}] {item['text']}, ppl = {item['ppl']}\\n\")"
      ],
      "metadata": {
        "id": "URaAb-chq1Jk"
      },
      "execution_count": null,
      "outputs": []
    },
    {
      "cell_type": "markdown",
      "source": [
        "## Question Construction"
      ],
      "metadata": {
        "id": "dpLABclsjvZY"
      }
    },
    {
      "cell_type": "code",
      "source": [
        "index_to_letter = {0: 'A', 1: 'B', 2: 'C', 3: 'D', 4: 'E'}"
      ],
      "metadata": {
        "id": "T5JknxjXVcpN"
      },
      "execution_count": null,
      "outputs": []
    },
    {
      "cell_type": "markdown",
      "source": [
        "### Pure verb phrases (*for tuning threshold*)"
      ],
      "metadata": {
        "id": "moceLPp5jzfp"
      }
    },
    {
      "cell_type": "code",
      "source": [
        "# verb phrase test case construction\n",
        "verb_candidate_groups = {}\n",
        "ctr = 1\n",
        "for sent_dict in base_sentences:\n",
        "    subject = sent_dict[\"subj\"]\n",
        "    verb_phrase = sent_dict[\"vp\"]\n",
        "    location = sent_dict[\"loc\"]\n",
        "    candidate_batch = []\n",
        "    for sentence in sent_data:\n",
        "        if sentence['subj'] == subject and sentence['loc'] == location:\n",
        "            candidate_batch.append(sentence)\n",
        "    sorted_batch = sorted(candidate_batch, key=lambda x: x['ppl'])\n",
        "    assert(len(sorted_batch) == 50)\n",
        "\n",
        "    candidate_text_group = []\n",
        "\n",
        "    distractor = sent_dict.copy()\n",
        "    gt = sorted_batch[-4].copy()\n",
        "    candidate_text_group.append(gt['vp']) # need to append gt first\n",
        "    candidate_text_group.append(distractor['vp'])\n",
        "\n",
        "    for item in sorted_batch[-3:]:\n",
        "        candidate_text_group.append(item['vp'])\n",
        "\n",
        "    # if check_cos_sim(tokenizer, model, candidate_text_group, 0.8):\n",
        "    #     verb_candidate_groups[ctr] = local_tmp\n",
        "    #     ctr += 1\n",
        "\n",
        "    verb_candidate_groups[ctr] = candidate_text_group\n",
        "    ctr += 1\n",
        "\n",
        "print(f\"=====================\\nTotal valid questions: {ctr-1}\")\n",
        "with open('verb_options.json', 'w') as f:\n",
        "    json.dump(verb_candidate_groups, f)"
      ],
      "metadata": {
        "colab": {
          "base_uri": "https://localhost:8080/"
        },
        "id": "JOG0EIzsLtHd",
        "outputId": "f560e201-85da-4d9f-96b7-38d8ed5cb40a"
      },
      "execution_count": null,
      "outputs": [
        {
          "output_type": "stream",
          "name": "stdout",
          "text": [
            "=====================\n",
            "Total valid questions: 50\n"
          ]
        }
      ]
    },
    {
      "cell_type": "markdown",
      "source": [
        "### Verb question generation"
      ],
      "metadata": {
        "id": "pEBd8U2Lj5Vi"
      }
    },
    {
      "cell_type": "code",
      "source": [
        "# verb phrase test case construction\n",
        "verb_candidate_groups = {}\n",
        "ctr = 1\n",
        "for sent_dict in base_sentences:\n",
        "    subject = sent_dict[\"subj\"]\n",
        "    verb_phrase = sent_dict[\"vp\"]\n",
        "    location = sent_dict[\"loc\"]\n",
        "    candidate_batch = []\n",
        "    for sentence in sent_data:\n",
        "        if sentence['subj'] == subject and sentence['loc'] == location:\n",
        "            candidate_batch.append(sentence)\n",
        "    sorted_batch = sorted(candidate_batch, key=lambda x: x['ppl'])\n",
        "    assert(len(sorted_batch) == 50)\n",
        "\n",
        "    candidate_verb_phrases = []\n",
        "    local_tmp = []\n",
        "\n",
        "    distractor = sent_dict.copy()\n",
        "    distractor['tag'] = 'distractor'\n",
        "    distractor['gid'] = ctr\n",
        "\n",
        "    gt = sorted_batch[-4].copy()\n",
        "    gt['tag'] = 'ground-truth'\n",
        "    gt['gid'] = ctr\n",
        "\n",
        "    local_tmp.append(gt)\n",
        "    candidate_verb_phrases.append(gt['vp']) # need to append gt first\n",
        "\n",
        "    local_tmp.append(distractor)\n",
        "    candidate_verb_phrases.append(distractor['vp'])\n",
        "\n",
        "    for item in sorted_batch[-3:]:\n",
        "        option = item.copy()\n",
        "        option['tag'] = 'option'\n",
        "        option['gid'] = ctr\n",
        "        local_tmp.append(option)\n",
        "        candidate_verb_phrases.append(option['vp'])\n",
        "\n",
        "    print(f\"Group {ctr}\\n{candidate_verb_phrases}\")\n",
        "    if check_cos_sim(model, candidate_verb_phrases, 0.7): # tuned threshold\n",
        "        verb_candidate_groups[ctr] = local_tmp\n",
        "        ctr += 1\n",
        "\n",
        "print(f\"=====================\\nTotal valid questions (Verb): {ctr-1}\")"
      ],
      "metadata": {
        "colab": {
          "base_uri": "https://localhost:8080/"
        },
        "id": "JcLRd2wND2VH",
        "outputId": "915f46b8-f33b-4fa9-e3d5-3a78fd0bb2a3"
      },
      "execution_count": null,
      "outputs": [
        {
          "output_type": "stream",
          "name": "stdout",
          "text": [
            "Group 1\n",
            "['finding a potato', 'riding a bicycle', 'starting a fire', 'playing football', 'teaching mathematics']\n",
            "Group 2\n",
            "['scaring the cat', 'riding a bicycle', 'fixing a computer', 'writing a program', 'teaching mathematics']\n",
            "Group 3\n",
            "['opening the wallet', 'driving a car', 'scaring the cat', 'writing a program', 'fixing a computer']\n",
            "Group 4\n",
            "['throwing a coin', 'riding a bicycle', 'fixing a computer', 'writing a program', 'teaching mathematics']\n",
            "Group 5\n",
            "['fixing a computer', 'riding a bicycle', 'breaking a glass', 'watching tv', 'teaching mathematics']\n",
            "Group 6\n",
            "['sending a letter', 'riding a bicycle', 'throwing a coin', 'fixing a computer', 'teaching mathematics']\n",
            "Group 7\n",
            "['fixing a computer', 'riding a bicycle', 'sending a letter', 'throwing a coin', 'teaching mathematics']\n",
            "Group 8\n",
            "['writing a program', 'eating a sandwich', 'fixing a computer', 'playing football', 'running up the tree']\n",
            "[writing a program] -  [fixing a computer]: 0.7432073950767517; Current threshold is 0.7\n",
            "\n",
            "Group 8\n",
            "['throwing a coin', 'riding a bicycle', 'watching tv', 'teaching mathematics', 'fixing a computer']\n",
            "Group 9\n",
            "['weeding the garden', 'eating a sandwich', 'fixing a computer', 'writing a program', 'teaching mathematics']\n",
            "Group 10\n",
            "['sending a letter', 'drinking from a bottle', 'fixing a computer', 'writing a program', 'teaching mathematics']\n",
            "Group 11\n",
            "['running up the tree', 'drinking from a bottle', 'writing a program', 'fixing a computer', 'teaching mathematics']\n",
            "Group 12\n",
            "['fixing a computer', 'riding a bicycle', 'throwing a coin', 'teaching mathematics', 'writing a program']\n",
            "[fixing a computer] -  [writing a program]: 0.7432073950767517; Current threshold is 0.7\n",
            "\n",
            "Group 12\n",
            "['running up the tree', 'drinking from a bottle', 'throwing a coin', 'weeding the garden', 'teaching mathematics']\n",
            "Group 13\n",
            "['finding a potato', 'riding a bicycle', 'fixing a computer', 'watching tv', 'teaching mathematics']\n",
            "Group 14\n",
            "['running up the tree', 'riding a bicycle', 'weeding the garden', 'fixing a computer', 'teaching mathematics']\n",
            "Group 15\n",
            "['writing a program', 'riding a bicycle', 'watching tv', 'fixing a computer', 'teaching mathematics']\n",
            "[writing a program] -  [fixing a computer]: 0.7432073950767517; Current threshold is 0.7\n",
            "\n",
            "Group 15\n",
            "['fixing a computer', 'riding a bicycle', 'throwing a coin', 'watching tv', 'teaching mathematics']\n",
            "Group 16\n",
            "['sending a letter', 'eating a sandwich', 'running up the tree', 'weeding the garden', 'teaching mathematics']\n",
            "Group 17\n",
            "['running up the tree', 'riding a bicycle', 'watching tv', 'breaking a glass', 'teaching mathematics']\n",
            "Group 18\n",
            "['sending a letter', 'riding a bicycle', 'weeding the garden', 'fixing a computer', 'teaching mathematics']\n",
            "Group 19\n",
            "['fixing a computer', 'lying on the ground', 'throwing a coin', 'watching tv', 'teaching mathematics']\n",
            "Group 20\n",
            "['sending a letter', 'drinking from a bottle', 'weeding the garden', 'throwing a coin', 'teaching mathematics']\n",
            "Group 21\n",
            "['playing football', 'riding a bicycle', 'writing a program', 'fixing a computer', 'teaching mathematics']\n",
            "Group 22\n",
            "['throwing a coin', 'drinking from a bottle', 'watching tv', 'fixing a computer', 'teaching mathematics']\n",
            "Group 23\n",
            "['writing a program', 'riding a bicycle', 'running up the tree', 'teaching mathematics', 'fixing a computer']\n",
            "[writing a program] -  [fixing a computer]: 0.7432073950767517; Current threshold is 0.7\n",
            "\n",
            "Group 23\n",
            "['fixing a computer', 'riding a bicycle', 'teaching mathematics', 'breaking a glass', 'throwing a coin']\n",
            "Group 24\n",
            "['throwing a coin', 'settling on the shelf', 'fixing a computer', 'sending a letter', 'teaching mathematics']\n",
            "Group 25\n",
            "['teaching mathematics', 'lying on the ground', 'opening the wallet', 'writing a program', 'throwing a coin']\n",
            "Group 26\n",
            "['sending a letter', 'drinking from a bottle', 'throwing a coin', 'running up the tree', 'teaching mathematics']\n",
            "Group 27\n",
            "['throwing a coin', 'riding a bicycle', 'opening the wallet', 'breaking a glass', 'scaring the cat']\n",
            "Group 28\n",
            "['running up the tree', 'drinking from a bottle', 'fixing a computer', 'writing a program', 'teaching mathematics']\n",
            "Group 29\n",
            "['throwing a coin', 'riding a bicycle', 'writing a program', 'teaching mathematics', 'fixing a computer']\n",
            "Group 30\n",
            "['opening the wallet', 'riding a bicycle', 'throwing a coin', 'fixing a computer', 'teaching mathematics']\n",
            "Group 31\n",
            "['running up the tree', 'playing the violin', 'teaching mathematics', 'throwing a coin', 'opening the wallet']\n",
            "Group 32\n",
            "['throwing a coin', 'cooking a meal', 'sending a letter', 'fixing a computer', 'teaching mathematics']\n",
            "Group 33\n",
            "['throwing a coin', 'riding a bicycle', 'writing a program', 'sending a letter', 'teaching mathematics']\n",
            "Group 34\n",
            "['throwing a coin', 'riding a bicycle', 'watching tv', 'watching the movie', 'opening the wallet']\n",
            "Group 35\n",
            "['watching tv', 'eating a sandwich', 'fixing a computer', 'teaching mathematics', 'writing a program']\n",
            "[watching tv] -  [eating a sandwich]: 0.7206795811653137; Current threshold is 0.7\n",
            "\n",
            "Group 35\n",
            "['breaking a glass', 'riding a bicycle', 'throwing a coin', 'writing a program', 'teaching mathematics']\n",
            "Group 36\n",
            "['running up the tree', 'drinking from a bottle', 'fixing a computer', 'writing a program', 'teaching mathematics']\n",
            "Group 37\n",
            "['weeding the garden', 'drinking from a bottle', 'writing a program', 'running up the tree', 'teaching mathematics']\n",
            "Group 38\n",
            "['opening the wallet', 'riding a bicycle', 'throwing a coin', 'fixing a computer', 'teaching mathematics']\n",
            "Group 39\n",
            "['sending a letter', 'drinking from a bottle', 'fixing a computer', 'writing a program', 'teaching mathematics']\n",
            "Group 40\n",
            "['running up the tree', 'eating a sandwich', 'opening the wallet', 'writing a program', 'teaching mathematics']\n",
            "Group 41\n",
            "['weeding the garden', 'eating a sandwich', 'writing a program', 'running up the tree', 'teaching mathematics']\n",
            "Group 42\n",
            "['running up the tree', 'riding a bicycle', 'teaching mathematics', 'fixing a computer', 'writing a program']\n",
            "Group 43\n",
            "['breaking a glass', 'eating a sandwich', 'throwing a coin', 'opening the wallet', 'scaring the cat']\n",
            "Group 44\n",
            "['writing a program', 'drinking from a bottle', 'running up the tree', 'fixing a computer', 'teaching mathematics']\n",
            "[writing a program] -  [fixing a computer]: 0.7432073950767517; Current threshold is 0.7\n",
            "\n",
            "Group 44\n",
            "['watching tv', 'riding a bicycle', 'starting a fire', 'playing football', 'teaching mathematics']\n",
            "=====================\n",
            "Total valid questions (Verb): 44\n"
          ]
        }
      ]
    },
    {
      "cell_type": "code",
      "source": [
        "verb_questions = []\n",
        "for group_id, sent_list in verb_candidate_groups.items():\n",
        "    question = {}\n",
        "    ppl_vp = {}\n",
        "    tmp_loc_list = []\n",
        "    id, gt_subj, gt_be, gt_verb, gt_loc, dt_verb = None, None, None, None, None, None\n",
        "    for sent in sent_list:\n",
        "        if sent['tag'] == 'ground-truth':\n",
        "            id = sent['gid']\n",
        "            gt_subj = sent['subj']\n",
        "            gt_be = sent['be']\n",
        "            gt_verb = sent['vp']\n",
        "            gt_loc = sent['loc']\n",
        "        elif sent['tag'] == 'distractor':\n",
        "            dt_verb = sent['vp']\n",
        "        ppl_vp[sent['vp']] = sent['ppl'] # it represents the sentence's ppl\n",
        "        tmp_loc_list.append(sent['vp'])\n",
        "\n",
        "    assert(any([id, gt_subj, gt_be, gt_verb, gt_loc, dt_verb]) != None)\n",
        "    question['id'] = id\n",
        "    question['subj'] = gt_subj\n",
        "    question['be'] = gt_be\n",
        "    question['loc'] = gt_loc\n",
        "    question['gt_vp'] = gt_verb\n",
        "    question['dt_vp'] = dt_verb\n",
        "    question['ppl'] = ppl_vp\n",
        "\n",
        "    assert(len(tmp_loc_list) == 5)\n",
        "    random.shuffle(tmp_loc_list)  # we shuffle the option's list\n",
        "    ans_idx = tmp_loc_list.index(gt_verb)\n",
        "\n",
        "    # gt_subj_the = replace_a_or_the(gt_subj, replace='a')\n",
        "    # gt_subj_a = replace_a_or_the(gt_subj, replace='the')\n",
        "    max_ppl_verb = max(ppl_vp, key=ppl_vp.get)\n",
        "\n",
        "    # multiple choice question\n",
        "    choice = f\"What {gt_be} {gt_subj} doing {gt_loc}?\\nA. {tmp_loc_list[0]}\\nB. {tmp_loc_list[1]}\\nC. {tmp_loc_list[2]}\\nD. {tmp_loc_list[3]}\\nE. {tmp_loc_list[4]}\"\n",
        "    # binary question - true\n",
        "    binary_gt = f\"Does the image show that {gt_subj} {gt_be} {gt_verb} {gt_loc}?\"\n",
        "    # binary question - false\n",
        "    binary_dt = f\"Does the image show that {gt_subj} {gt_be} {dt_verb} {gt_loc}?\"\n",
        "    # binary question - comparision\n",
        "    binary_co = f\"Does the image show that {gt_subj} {gt_be} {max_ppl_verb} {gt_loc}?\"\n",
        "    # open question\n",
        "    open_question = f\"What {gt_be} {gt_subj} doing {gt_loc}?\"\n",
        "\n",
        "    question['choice'] = choice\n",
        "    question['choice answer'] = index_to_letter[ans_idx]\n",
        "    question['binary-yes'] = binary_gt\n",
        "    question['binary-yes answer'] = \"Yes.\"\n",
        "    question['binary-no'] = binary_dt\n",
        "    question['binary-no answer'] = \"No.\"\n",
        "    question['binary-cp'] = binary_co\n",
        "    question['binary-cp answer'] = \"No.\"\n",
        "    question['open'] = open_question\n",
        "    question['open answer'] = gt_verb\n",
        "    question['image prompt'] = f\"Generate an image of {gt_subj} {gt_verb} {gt_loc}.\"\n",
        "\n",
        "    verb_questions.append(question)"
      ],
      "metadata": {
        "id": "X4lkO6-RXOtS"
      },
      "execution_count": null,
      "outputs": []
    },
    {
      "cell_type": "code",
      "source": [
        "with open('verb_questions.json', 'w') as f:\n",
        "    json.dump(verb_questions, f)\n",
        "\n",
        "with open('verb_questions-h.txt', 'w') as outfile:\n",
        "    with open('verb_questions.json', 'r') as infile:\n",
        "        j_list = json.load(infile)\n",
        "        for question in j_list:\n",
        "            outfile.write(f\"Question{question['id']}:\\n\\n{question['image prompt']}\\n{question['choice']}\\n\")\n",
        "            outfile.write(f\"Answer: {question['choice answer']}\\n\\n\")\n",
        "            outfile.write(f\"{question['binary-yes']}\\nAnswer: {question['binary-yes answer']}\\n\")\n",
        "            outfile.write(f\"{question['binary-no']}\\nAnswer: {question['binary-no answer']}\\n\")\n",
        "            outfile.write(f\"{question['binary-cp']}\\nAnswer: {question['binary-cp answer']}\\n\\n\")\n",
        "            outfile.write(f\"{question['open']}\\nAnswer: {question['open answer']}\\n\\n\")\n",
        "            outfile.write(f\"PPL: {question['ppl']}\\n\\n\")\n",
        "            outfile.write(\"=\"*10)\n",
        "            outfile.write('\\n')"
      ],
      "metadata": {
        "id": "8YAbr4TjqNCW"
      },
      "execution_count": null,
      "outputs": []
    },
    {
      "cell_type": "markdown",
      "source": [
        "### Pure location phrases (*for tuning threshold*)"
      ],
      "metadata": {
        "id": "cQ7GruNee7md"
      }
    },
    {
      "cell_type": "code",
      "source": [
        "# location phrase test case construction\n",
        "loc_candidate_groups = {}\n",
        "ctr = 1\n",
        "\n",
        "for sent_dict in base_sentences:\n",
        "    subject = sent_dict[\"subj\"]\n",
        "    verb_phrase = sent_dict[\"vp\"]\n",
        "    location = sent_dict[\"loc\"]\n",
        "    candidate_batch = []\n",
        "    for sentence in sent_data:\n",
        "        if sentence['subj'] == subject and sentence['vp'] == verb_phrase:\n",
        "            candidate_batch.append(sentence)\n",
        "    sorted_batch = sorted(candidate_batch, key=lambda x: x['ppl'])\n",
        "    assert(len(sorted_batch) == 50)\n",
        "\n",
        "    candidate_locs = []\n",
        "    distractor = sent_dict.copy()\n",
        "    gt = sorted_batch[-4].copy()\n",
        "    candidate_locs.append(gt['loc']) # need to append gt first\n",
        "    candidate_locs.append(distractor['loc'])\n",
        "\n",
        "    for item in sorted_batch[-3:]:\n",
        "        candidate_locs.append(item['loc'])\n",
        "\n",
        "    loc_candidate_groups[ctr] = candidate_locs\n",
        "    ctr += 1\n",
        "\n",
        "print(f\"=====================\\nTotal valid questions: {ctr-1}\")\n",
        "with open('loc_options.json', 'w') as f:\n",
        "    json.dump(loc_candidate_groups, f)"
      ],
      "metadata": {
        "colab": {
          "base_uri": "https://localhost:8080/"
        },
        "id": "G0mdyCFee9bh",
        "outputId": "783cd746-359e-4247-84a6-00333a17ac53"
      },
      "execution_count": null,
      "outputs": [
        {
          "output_type": "stream",
          "name": "stdout",
          "text": [
            "=====================\n",
            "Total valid questions: 50\n"
          ]
        }
      ]
    },
    {
      "cell_type": "markdown",
      "source": [
        "### Location question generation"
      ],
      "metadata": {
        "id": "jncET1_3kqm8"
      }
    },
    {
      "cell_type": "code",
      "source": [
        "# location test case construction\n",
        "location_candidate_groups = {}\n",
        "\n",
        "ctr = 1\n",
        "for sent_dict in base_sentences:\n",
        "    subject = sent_dict[\"subj\"]\n",
        "    verb_phrase = sent_dict[\"vp\"]\n",
        "    location = sent_dict[\"loc\"]\n",
        "    candidate_batch = []\n",
        "    for sentence in sent_data:\n",
        "        if sentence['subj'] == subject and sentence['vp'] == verb_phrase:\n",
        "            candidate_batch.append(sentence)\n",
        "    sorted_batch = sorted(candidate_batch, key=lambda x: x['ppl'])\n",
        "    assert(len(sorted_batch) == 50)\n",
        "\n",
        "    local_candidates = []\n",
        "    loc_phrases = []\n",
        "\n",
        "    distractor = sent_dict.copy()\n",
        "    distractor['tag'] = 'distractor'\n",
        "    distractor['gid'] = ctr\n",
        "\n",
        "    gt = sorted_batch[-4].copy()\n",
        "    gt['tag'] = 'ground-truth'\n",
        "    gt['gid'] = ctr\n",
        "\n",
        "    local_candidates.append(gt)\n",
        "    local_candidates.append(distractor)\n",
        "    loc_phrases.append(gt['loc'])\n",
        "    loc_phrases.append(distractor['loc'])\n",
        "\n",
        "    for item in sorted_batch[-3:]:\n",
        "        option = item.copy()\n",
        "        option['tag'] = 'option'\n",
        "        option['gid'] = ctr\n",
        "        local_candidates.append(option)\n",
        "        loc_phrases.append(option['loc'])\n",
        "\n",
        "    print(f\"Group {ctr}\\n{loc_phrases}\")\n",
        "    if check_cos_sim(model, loc_phrases, 0.63): # tuned threshold\n",
        "        location_candidate_groups[ctr] = local_candidates\n",
        "        ctr += 1\n",
        "\n",
        "print(f\"=====================\\nTotal valid questions (location): {ctr-1}\")"
      ],
      "metadata": {
        "colab": {
          "base_uri": "https://localhost:8080/"
        },
        "id": "BXBPdmRrL5uy",
        "outputId": "6cfdba31-0cc7-438c-9724-699ab49bceda"
      },
      "execution_count": null,
      "outputs": [
        {
          "output_type": "stream",
          "name": "stdout",
          "text": [
            "Group 1\n",
            "['in church', 'down the stairs', 'on television', 'at the brew pub', 'at the drive - thru']\n",
            "Group 2\n",
            "['in church', 'along the beach', 'at the brew pub', 'on television', 'at the drive - thru']\n",
            "Group 3\n",
            "['up the tree', 'in the countryside', 'in church', 'in school', 'on television']\n",
            "Group 4\n",
            "['in a cabinet', 'in the countryside', 'in school', 'in church', 'at a conference']\n",
            "Group 5\n",
            "['on television', 'in the countryside', 'in school', 'at a conference', 'in church']\n",
            "Group 6\n",
            "['on television', 'in the refrigerator', 'in school', 'in church', 'at a conference']\n",
            "Group 7\n",
            "['on television', 'in the refrigerator', 'at a conference', 'in church', 'in school']\n",
            "Group 8\n",
            "['along the beach', 'in the refrigerator', 'down the slushy road', 'in water', 'around a lake']\n",
            "[along the beach] -  [down the slushy road]: 0.679032564163208; Current threshold is 0.63\n",
            "\n",
            "[along the beach] -  [around a lake]: 0.7141851186752319; Current threshold is 0.63\n",
            "\n",
            "Group 8\n",
            "['at a conference', 'in the countryside', 'on television', 'in church', 'in school']\n",
            "Group 9\n",
            "['down the slushy road', 'in the refrigerator', 'in school', 'in water', 'around a lake']\n",
            "[down the slushy road] -  [around a lake]: 0.6547176837921143; Current threshold is 0.63\n",
            "\n",
            "Group 9\n",
            "['in church', 'in the refrigerator', 'on television', 'in school', 'around a lake']\n",
            "Group 10\n",
            "['up the tree', 'in the refrigerator', 'down the slushy road', 'on television', 'around a lake']\n",
            "Group 11\n",
            "['at a conference', 'in the countryside', 'in church', 'in school', 'in a cabinet']\n",
            "Group 12\n",
            "['around a lake', 'in the refrigerator', 'up the tree', 'in church', 'on television']\n",
            "Group 13\n",
            "['in school', 'down the stairs', 'at the drive - thru', 'in church', 'at a conference']\n",
            "Group 14\n",
            "['in a cabinet', 'in the refrigerator', 'at a conference', 'in church', 'in school']\n",
            "[in a cabinet] -  [in the refrigerator]: 0.8114351630210876; Current threshold is 0.63\n",
            "\n",
            "Group 14\n",
            "['in a cabinet', 'in the countryside', 'in church', 'at a conference', 'on television']\n",
            "Group 15\n",
            "['on television', 'in the countryside', 'in school', 'in church', 'at a conference']\n",
            "Group 16\n",
            "['in school', 'in the refrigerator', 'around a lake', 'up the tree', 'on television']\n",
            "Group 17\n",
            "['at home', 'in the countryside', 'on television', 'at a conference', 'at the drive - thru']\n",
            "[at home] -  [at the drive - thru]: 0.6442533731460571; Current threshold is 0.63\n",
            "\n",
            "Group 17\n",
            "['on television', 'in the refrigerator', 'at a conference', 'in school', 'in church']\n",
            "Group 18\n",
            "['at a conference', 'in the countryside', 'in school', 'in church', 'on television']\n",
            "Group 19\n",
            "['in church', 'in the refrigerator', 'in school', 'on television', 'around a lake']\n",
            "Group 20\n",
            "['on television', 'in the refrigerator', 'in school', 'in church', 'at a conference']\n",
            "Group 21\n",
            "['in school', 'in the refrigerator', 'in church', 'on television', 'around a lake']\n",
            "Group 22\n",
            "['in church', 'in the countryside', 'in a cabinet', 'at a conference', 'in school']\n",
            "Group 23\n",
            "['at a conference', 'in the countryside', 'in church', 'in a cabinet', 'on television']\n",
            "Group 24\n",
            "['in school', 'in the refrigerator', 'around a lake', 'up the tree', 'on television']\n",
            "Group 25\n",
            "['at a conference', 'in the countryside', 'in church', 'in school', 'on television']\n",
            "Group 26\n",
            "['in church', 'in the refrigerator', 'on television', 'in school', 'around a lake']\n",
            "Group 27\n",
            "['in church', 'in the countryside', 'on television', 'at the brew pub', 'at the drive - thru']\n",
            "Group 28\n",
            "['down the slushy road', 'in the refrigerator', 'up the tree', 'along the beach', 'around a lake']\n",
            "[down the slushy road] -  [along the beach]: 0.679032564163208; Current threshold is 0.63\n",
            "\n",
            "[down the slushy road] -  [around a lake]: 0.6547176837921143; Current threshold is 0.63\n",
            "\n",
            "Group 28\n",
            "['in a cabinet', 'in the countryside', 'on television', 'in school', 'at a conference']\n",
            "Group 29\n",
            "['in church', 'in the countryside', 'at the brew pub', 'at home', 'at a conference']\n",
            "[in church] -  [at home]: 0.7107207179069519; Current threshold is 0.63\n",
            "\n",
            "Group 29\n",
            "['up the tree', 'in the countryside', 'down the slushy road', 'at the drive - thru', 'in water']\n",
            "Group 30\n",
            "['around a lake', 'in the refrigerator', 'in church', 'in school', 'on television']\n",
            "Group 31\n",
            "['on television', 'in the refrigerator', 'in school', 'in church', 'at a conference']\n",
            "Group 32\n",
            "['on television', 'in the countryside', 'in church', 'at the drive - thru', 'in school']\n",
            "Group 33\n",
            "['on television', 'in the countryside', 'in church', 'in school', 'around a lake']\n",
            "Group 34\n",
            "['in a cabinet', 'in the countryside', 'in church', 'on television', 'at a conference']\n",
            "Group 35\n",
            "['in water', 'in the refrigerator', 'in school', 'in church', 'around a lake']\n",
            "[in water] -  [around a lake]: 0.7573564648628235; Current threshold is 0.63\n",
            "\n",
            "Group 35\n",
            "['in water', 'in the refrigerator', 'in school', 'along the beach', 'around a lake']\n",
            "[in water] -  [around a lake]: 0.7573564648628235; Current threshold is 0.63\n",
            "\n",
            "Group 35\n",
            "['in a cabinet', 'in the countryside', 'in school', 'in church', 'at a conference']\n",
            "Group 36\n",
            "['in church', 'in the refrigerator', 'in school', 'on television', 'around a lake']\n",
            "Group 37\n",
            "['on television', 'in the countryside', 'in water', 'up the tree', 'around a lake']\n",
            "Group 38\n",
            "['up the tree', 'in the refrigerator', 'in school', 'around a lake', 'in water']\n",
            "Group 39\n",
            "['up the tree', 'in the countryside', 'under the bed', 'in a cabinet', 'at a conference']\n",
            "Group 40\n",
            "['down the slushy road', 'in the countryside', 'around a lake', 'on television', 'in water']\n",
            "[down the slushy road] -  [around a lake]: 0.6547176837921143; Current threshold is 0.63\n",
            "\n",
            "Group 40\n",
            "['down the slushy road', 'in the refrigerator', 'up the tree', 'in church', 'around a lake']\n",
            "[down the slushy road] -  [around a lake]: 0.6547176837921143; Current threshold is 0.63\n",
            "\n",
            "Group 40\n",
            "['in bed', 'down the stairs', 'at the zoo', 'in church', 'on television']\n",
            "=====================\n",
            "Total valid questions (location): 40\n"
          ]
        }
      ]
    },
    {
      "cell_type": "code",
      "source": [
        "loc_questions = []\n",
        "for group_id, sent_list in location_candidate_groups.items():\n",
        "    question = {}\n",
        "    ppl_loc = {}\n",
        "    tmp_loc_list = []\n",
        "    id, gt_subj, gt_be, gt_verb, gt_loc, dt_loc = None, None, None, None, None, None\n",
        "    for sent in sent_list:\n",
        "        if sent['tag'] == 'ground-truth':\n",
        "            id = sent['gid']\n",
        "            gt_subj = sent['subj']\n",
        "            gt_be = sent['be']\n",
        "            gt_verb = sent['vp']\n",
        "            gt_loc = sent['loc']\n",
        "        elif sent['tag'] == 'distractor':\n",
        "            dt_loc = sent['loc']\n",
        "        ppl_loc[sent['loc']] = sent['ppl']\n",
        "        tmp_loc_list.append(sent['loc'])\n",
        "\n",
        "    assert(any([id, gt_subj, gt_be, gt_verb, gt_loc, dt_loc]) != None)\n",
        "    question['id'] = id\n",
        "    question['subj'] = gt_subj\n",
        "    question['be'] = gt_be\n",
        "    question['vp'] = gt_verb\n",
        "    question['gt_loc'] = gt_loc\n",
        "    question['dt_loc'] = dt_loc\n",
        "    question['ppl'] = ppl_loc\n",
        "\n",
        "    assert(len(tmp_loc_list) == 5)\n",
        "    random.shuffle(tmp_loc_list) # we shuffle the option's list\n",
        "    ans_idx = tmp_loc_list.index(gt_loc)\n",
        "\n",
        "    # gt_subj_the = replace_a_or_the(gt_subj, 'a')\n",
        "    # gt_subj_a = replace_a_or_the(gt_subj, 'the')\n",
        "    max_ppl_loc = max(ppl_loc, key=ppl_loc.get)\n",
        "\n",
        "    choice = f\"Where {gt_be} {gt_subj} {gt_verb}?\\nA. {tmp_loc_list[0]}\\nB. {tmp_loc_list[1]}\\nC. {tmp_loc_list[2]}\\nD. {tmp_loc_list[3]}\\nE. {tmp_loc_list[4]}\"\n",
        "    # binary question - true\n",
        "    binary_gt = f\"Does the image show that {gt_subj} {gt_be} {gt_verb} {gt_loc}?\"\n",
        "    # binary question - false\n",
        "    binary_dt = f\"Does the image show that {gt_subj} {gt_be} {gt_verb} {dt_loc}?\"\n",
        "    # binary question - comparision\n",
        "    binary_co = f\"Does the image show that {gt_subj} {gt_be} {gt_verb} {max_ppl_loc}?\"\n",
        "\n",
        "    # open question\n",
        "    open_question = f\"Where {gt_be} {gt_subj} {gt_verb}?\"\n",
        "\n",
        "    question['choice'] = choice\n",
        "    question['choice answer'] = index_to_letter[ans_idx]\n",
        "    question['binary-yes'] = binary_gt\n",
        "    question['binary-yes answer'] = \"Yes.\"\n",
        "    question['binary-no'] = binary_dt\n",
        "    question['binary-no answer'] = \"No.\"\n",
        "    question['binary-cp'] = binary_co\n",
        "    question['binary-cp answer'] = \"No.\"\n",
        "    question['open'] = open_question\n",
        "    question['open answer'] = gt_loc\n",
        "    question['image prompt'] = f\"Generate an image of {gt_subj} {gt_verb} {gt_loc}.\"\n",
        "\n",
        "    loc_questions.append(question)"
      ],
      "metadata": {
        "id": "0GWtL6jaoDpu"
      },
      "execution_count": null,
      "outputs": []
    },
    {
      "cell_type": "code",
      "source": [
        "with open('location_questions.json', 'w') as f:\n",
        "    json.dump(loc_questions, f)\n",
        "\n",
        "with open('location_questions-h.txt', 'w') as outfile:\n",
        "    with open('location_questions.json', 'r') as infile:\n",
        "        j_list = json.load(infile)\n",
        "        for question in j_list:\n",
        "            outfile.write(f\"Question{question['id']}:\\n\\n{question['image prompt']}\\n{question['choice']}\\n\")\n",
        "            outfile.write(f\"Answer: {question['choice answer']}\\n\\n\")\n",
        "            outfile.write(f\"{question['binary-yes']}\\nAnswer: {question['binary-yes answer']}\\n\")\n",
        "            outfile.write(f\"{question['binary-no']}\\nAnswer: {question['binary-no answer']}\\n\")\n",
        "            outfile.write(f\"{question['binary-cp']}\\nAnswer: {question['binary-cp answer']}\\n\\n\")\n",
        "            outfile.write(f\"{question['open']}\\nAnswer: {question['open answer']}\\n\\n\")\n",
        "            outfile.write(f\"PPL: {question['ppl']}\\n\\n\")\n",
        "            outfile.write(\"=\"*10)\n",
        "            outfile.write('\\n')"
      ],
      "metadata": {
        "id": "IsuTAui4mJyq"
      },
      "execution_count": null,
      "outputs": []
    }
  ]
}