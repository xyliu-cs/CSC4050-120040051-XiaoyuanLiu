{
 "cells": [
  {
   "cell_type": "code",
   "execution_count": 14,
   "metadata": {},
   "outputs": [],
   "source": [
    "import json\n",
    "with open('verb_candidates.json', 'r') as f:\n",
    "    json_list = json.load(f)\n",
    "    "
   ]
  },
  {
   "cell_type": "markdown",
   "metadata": {},
   "source": [
    "### 1. Multiple Choice Question"
   ]
  },
  {
   "cell_type": "code",
   "execution_count": 32,
   "metadata": {},
   "outputs": [],
   "source": [
    "import random\n",
    "\n",
    "index_to_letter = {0: 'A', 1: 'B', 2: 'C', 3: 'D', 4: 'E'}"
   ]
  },
  {
   "cell_type": "code",
   "execution_count": 16,
   "metadata": {},
   "outputs": [],
   "source": [
    "# options are verb phrases\n",
    "question_bundle = {}\n",
    "for sentence in json_list:\n",
    "    group_id = sentence['gid']\n",
    "    if group_id not in question_bundle:\n",
    "        question_bundle[group_id] = [sentence]\n",
    "    else:\n",
    "        question_bundle[group_id].append(sentence)"
   ]
  },
  {
   "cell_type": "code",
   "execution_count": 48,
   "metadata": {},
   "outputs": [],
   "source": [
    "questions = []\n",
    "for group_id, sent_list in question_bundle.items():\n",
    "    question = {}\n",
    "    ppl_vp = {}\n",
    "    tmp_vp_list = []\n",
    "    id, gt_subj, gt_verb, gt_loc, dt_verb = None, None, None, None, None\n",
    "    for sent in sent_list:\n",
    "        if sent['tag'] == 'ground-truth':\n",
    "            id = sent['gid']\n",
    "            gt_subj = sent['subj']\n",
    "            gt_verb = sent['vp']\n",
    "            gt_loc = sent['loc']\n",
    "        elif sent['tag'] == 'distractor':\n",
    "            dt_verb = sent['vp']\n",
    "        ppl_vp[sent['vp']] = sent['ppl']\n",
    "        tmp_vp_list.append(sent['vp'])\n",
    "    \n",
    "    assert(any([id, gt_subj, gt_verb, gt_loc, dt_verb]) != None)\n",
    "    question['id'] = id\n",
    "    question['subj'] = gt_subj\n",
    "    question['loc'] = gt_loc\n",
    "    question['gt_vp'] = gt_verb\n",
    "    question['dt_vp'] = dt_verb\n",
    "    question['ppl'] = ppl_vp\n",
    "\n",
    "    assert(len(tmp_vp_list) == 5)\n",
    "    random.shuffle(tmp_vp_list) # we shuffle the option's list\n",
    "    ans_idx = tmp_vp_list.index(gt_verb)\n",
    "    \n",
    "    q_text = f\"What is/are {gt_subj} doing {gt_loc}?\\nA. {tmp_vp_list[0]}\\nB. {tmp_vp_list[1]}\\nC. {tmp_vp_list[2]}\\nD. {tmp_vp_list[3]}\\nE. {tmp_vp_list[4]}\"\n",
    "    question['question'] = q_text\n",
    "    question['answer'] = index_to_letter[ans_idx]\n",
    "    question['image'] = f\"Generate an image of {gt_subj} {gt_verb} {gt_loc} in realistic style\"\n",
    "    questions.append(question)\n",
    "\n",
    "with open('verb_questions.json', 'w') as f:\n",
    "    json.dump(questions, f)"
   ]
  },
  {
   "cell_type": "code",
   "execution_count": 49,
   "metadata": {},
   "outputs": [],
   "source": [
    "with open('verb_questions.txt', 'w') as outfile:\n",
    "    with open('verb_questions.json', 'r') as infile:\n",
    "        j_list = json.load(infile)\n",
    "        for question in j_list:\n",
    "            outfile.write(f\"Question{question['id']}:\\n{question['image']}\\n{question['question']}\\n\")\n",
    "            outfile.write('\\n')\n",
    "            outfile.write(f\"Answer: {question['answer']}\\n\")\n",
    "            outfile.write(f\"PPL: {question['ppl']}\\n\\n\")\n",
    "            outfile.write(\"=\"*10)\n",
    "            outfile.write('\\n')"
   ]
  },
  {
   "cell_type": "markdown",
   "metadata": {},
   "source": []
  }
 ],
 "metadata": {
  "kernelspec": {
   "display_name": "Python 3",
   "language": "python",
   "name": "python3"
  },
  "language_info": {
   "codemirror_mode": {
    "name": "ipython",
    "version": 3
   },
   "file_extension": ".py",
   "mimetype": "text/x-python",
   "name": "python",
   "nbconvert_exporter": "python",
   "pygments_lexer": "ipython3",
   "version": "3.10.6"
  }
 },
 "nbformat": 4,
 "nbformat_minor": 2
}
