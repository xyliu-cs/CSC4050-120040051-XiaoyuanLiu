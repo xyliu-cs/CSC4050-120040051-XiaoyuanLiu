{
 "cells": [
  {
   "cell_type": "markdown",
   "metadata": {},
   "source": [
    "### 1. Multiple Choice Question"
   ]
  },
  {
   "cell_type": "code",
   "execution_count": 7,
   "metadata": {},
   "outputs": [],
   "source": [
    "import random\n",
    "\n",
    "index_to_letter = {0: 'A', 1: 'B', 2: 'C', 3: 'D', 4: 'E'}"
   ]
  },
  {
   "cell_type": "code",
   "execution_count": 11,
   "metadata": {},
   "outputs": [],
   "source": [
    "def transform_a_to_the(word):\n",
    "    if word.startswith(\"a \"):\n",
    "        modified_phrase = word.replace(\"a \", \"the \", 1)\n",
    "    else:\n",
    "        modified_phrase = word\n",
    "    return modified_phrase "
   ]
  },
  {
   "cell_type": "code",
   "execution_count": 15,
   "metadata": {},
   "outputs": [],
   "source": [
    "import json\n",
    "with open('verb_candidates.json', 'r') as f:\n",
    "    verb_json_list = json.load(f)"
   ]
  },
  {
   "cell_type": "code",
   "execution_count": 16,
   "metadata": {},
   "outputs": [],
   "source": [
    "# options are verb phrases\n",
    "verb_question_bundle = {}\n",
    "for sentence in verb_json_list:\n",
    "    group_id = sentence['gid']\n",
    "    if group_id not in verb_question_bundle:\n",
    "        verb_question_bundle[group_id] = [sentence]\n",
    "    else:\n",
    "        verb_question_bundle[group_id].append(sentence)"
   ]
  },
  {
   "cell_type": "code",
   "execution_count": 17,
   "metadata": {},
   "outputs": [],
   "source": [
    "verb_questions = []\n",
    "for group_id, sent_list in verb_question_bundle.items():\n",
    "    question = {}\n",
    "    ppl_vp = {}\n",
    "    tmp_loc_list = []\n",
    "    id, gt_subj, gt_verb, gt_loc, dt_loc = None, None, None, None, None\n",
    "    for sent in sent_list:\n",
    "        if sent['tag'] == 'ground-truth':\n",
    "            id = sent['gid']\n",
    "            gt_subj = sent['subj']\n",
    "            gt_verb = sent['vp']\n",
    "            gt_loc = sent['loc']\n",
    "        elif sent['tag'] == 'distractor':\n",
    "            dt_loc = sent['vp']\n",
    "        ppl_vp[sent['vp']] = sent['ppl']\n",
    "        tmp_loc_list.append(sent['vp'])\n",
    "    \n",
    "    assert(any([id, gt_subj, gt_verb, gt_loc, dt_loc]) != None)\n",
    "    question['id'] = id\n",
    "    question['subj'] = gt_subj\n",
    "    question['loc'] = gt_loc\n",
    "    question['gt_vp'] = gt_verb\n",
    "    question['dt_vp'] = dt_loc\n",
    "    question['ppl'] = ppl_vp\n",
    "\n",
    "    assert(len(tmp_loc_list) == 5)\n",
    "    random.shuffle(tmp_loc_list) # we shuffle the option's list\n",
    "    ans_idx = tmp_loc_list.index(gt_verb)\n",
    "\n",
    "    gt_subj_the = transform_a_to_the(gt_subj)\n",
    "    \n",
    "    q_text = f\"What is {gt_subj_the} doing {gt_loc}?\\nA. {tmp_loc_list[0]}\\nB. {tmp_loc_list[1]}\\nC. {tmp_loc_list[2]}\\nD. {tmp_loc_list[3]}\\nE. {tmp_loc_list[4]}\"\n",
    "    question['question'] = q_text\n",
    "    question['answer'] = index_to_letter[ans_idx]\n",
    "    question['image'] = f\"Generate an image of {gt_subj} {gt_verb} {gt_loc}.\"\n",
    "    verb_questions.append(question)\n",
    "\n",
    "with open('verb_questions.json', 'w') as f:\n",
    "    json.dump(verb_questions, f)"
   ]
  },
  {
   "cell_type": "code",
   "execution_count": 18,
   "metadata": {},
   "outputs": [],
   "source": [
    "with open('verb_questions.txt', 'w') as outfile:\n",
    "    with open('verb_questions.json', 'r') as infile:\n",
    "        j_list = json.load(infile)\n",
    "        for question in j_list:\n",
    "            outfile.write(f\"Question{question['id']}:\\n{question['image']}\\n{question['question']}\\n\")\n",
    "            outfile.write('\\n')\n",
    "            outfile.write(f\"Answer: {question['answer']}\\n\")\n",
    "            outfile.write(f\"PPL: {question['ppl']}\\n\\n\")\n",
    "            outfile.write(\"=\"*10)\n",
    "            outfile.write('\\n')"
   ]
  },
  {
   "cell_type": "code",
   "execution_count": 19,
   "metadata": {},
   "outputs": [],
   "source": [
    "with open('location_candidates.json', 'r') as f:\n",
    "    location_json_list = json.load(f)"
   ]
  },
  {
   "cell_type": "code",
   "execution_count": 21,
   "metadata": {},
   "outputs": [],
   "source": [
    "# options are verb phrases\n",
    "loc_question_bundle = {}\n",
    "for sentence in location_json_list:\n",
    "    group_id = sentence['gid']\n",
    "    if group_id not in loc_question_bundle:\n",
    "        loc_question_bundle[group_id] = [sentence]\n",
    "    else:\n",
    "        loc_question_bundle[group_id].append(sentence)"
   ]
  },
  {
   "cell_type": "code",
   "execution_count": 22,
   "metadata": {},
   "outputs": [],
   "source": [
    "loc_questions = []\n",
    "for group_id, sent_list in loc_question_bundle.items():\n",
    "    question = {}\n",
    "    ppl_loc = {}\n",
    "    tmp_loc_list = []\n",
    "    id, gt_subj, gt_verb, gt_loc, dt_loc = None, None, None, None, None\n",
    "    for sent in sent_list:\n",
    "        if sent['tag'] == 'ground-truth':\n",
    "            id = sent['gid']\n",
    "            gt_subj = sent['subj']\n",
    "            gt_verb = sent['vp']\n",
    "            gt_loc = sent['loc']\n",
    "        elif sent['tag'] == 'distractor':\n",
    "            dt_loc = sent['loc']\n",
    "        ppl_loc[sent['loc']] = sent['ppl']\n",
    "        tmp_loc_list.append(sent['loc'])\n",
    "    \n",
    "    assert(any([id, gt_subj, gt_verb, gt_loc, dt_loc]) != None)\n",
    "    question['id'] = id\n",
    "    question['subj'] = gt_subj\n",
    "    question['vp'] = gt_verb\n",
    "    question['gt_loc'] = gt_loc\n",
    "    question['dt_loc'] = dt_loc\n",
    "    question['ppl'] = ppl_loc\n",
    "\n",
    "    assert(len(tmp_loc_list) == 5)\n",
    "    random.shuffle(tmp_loc_list) # we shuffle the option's list\n",
    "    ans_idx = tmp_loc_list.index(gt_loc)\n",
    "\n",
    "    gt_subj_the = transform_a_to_the(gt_subj)\n",
    "    \n",
    "    q_text = f\"Where does {gt_subj_the} {gt_verb}?\\nA. {tmp_loc_list[0]}\\nB. {tmp_loc_list[1]}\\nC. {tmp_loc_list[2]}\\nD. {tmp_loc_list[3]}\\nE. {tmp_loc_list[4]}\"\n",
    "    question['question'] = q_text\n",
    "    question['answer'] = index_to_letter[ans_idx]\n",
    "    question['image'] = f\"Generate an image of {gt_subj} {gt_verb} {gt_loc}.\"\n",
    "    loc_questions.append(question)\n",
    "\n",
    "with open('location_questions.json', 'w') as f:\n",
    "    json.dump(loc_questions, f)"
   ]
  },
  {
   "cell_type": "code",
   "execution_count": 23,
   "metadata": {},
   "outputs": [],
   "source": [
    "with open('location_questions.txt', 'w') as outfile:\n",
    "    with open('location_questions.json', 'r') as infile:\n",
    "        j_list = json.load(infile)\n",
    "        for question in j_list:\n",
    "            outfile.write(f\"Question{question['id']}:\\n{question['image']}\\n{question['question']}\\n\")\n",
    "            outfile.write('\\n')\n",
    "            outfile.write(f\"Answer: {question['answer']}\\n\")\n",
    "            outfile.write(f\"PPL: {question['ppl']}\\n\\n\")\n",
    "            outfile.write(\"=\"*10)\n",
    "            outfile.write('\\n')"
   ]
  }
 ],
 "metadata": {
  "kernelspec": {
   "display_name": "Python 3",
   "language": "python",
   "name": "python3"
  },
  "language_info": {
   "codemirror_mode": {
    "name": "ipython",
    "version": 3
   },
   "file_extension": ".py",
   "mimetype": "text/x-python",
   "name": "python",
   "nbconvert_exporter": "python",
   "pygments_lexer": "ipython3",
   "version": "3.10.13"
  }
 },
 "nbformat": 4,
 "nbformat_minor": 2
}
