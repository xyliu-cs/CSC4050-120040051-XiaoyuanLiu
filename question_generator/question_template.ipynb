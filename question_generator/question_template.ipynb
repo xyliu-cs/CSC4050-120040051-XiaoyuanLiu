{
 "cells": [
  {
   "cell_type": "code",
   "execution_count": 1,
   "metadata": {},
   "outputs": [],
   "source": [
    "import random\n",
    "\n",
    "index_to_letter = {0: 'A', 1: 'B', 2: 'C', 3: 'D', 4: 'E'}"
   ]
  },
  {
   "cell_type": "code",
   "execution_count": 2,
   "metadata": {},
   "outputs": [],
   "source": [
    "def replace_a_or_the(word, replace='a'):\n",
    "    if replace == 'a'and word.startswith(\"a \"):\n",
    "        word = word.replace(\"a \", \"the \", 1)\n",
    "    elif replace == 'the' and word.startswith(\"the \"):\n",
    "        word = word.replace(\"the \", \"a \", 1)\n",
    "    return word "
   ]
  },
  {
   "cell_type": "code",
   "execution_count": 3,
   "metadata": {},
   "outputs": [],
   "source": [
    "import json\n",
    "with open('verb_candidates.json', 'r') as f:\n",
    "    verb_json_list = json.load(f)"
   ]
  },
  {
   "cell_type": "code",
   "execution_count": 4,
   "metadata": {},
   "outputs": [],
   "source": [
    "# options are verb phrases\n",
    "verb_question_bundle = {}\n",
    "for sentence in verb_json_list:\n",
    "    group_id = sentence['gid']\n",
    "    if group_id not in verb_question_bundle:\n",
    "        verb_question_bundle[group_id] = [sentence]\n",
    "    else:\n",
    "        verb_question_bundle[group_id].append(sentence)"
   ]
  },
  {
   "cell_type": "code",
   "execution_count": 5,
   "metadata": {},
   "outputs": [],
   "source": [
    "verb_questions = []\n",
    "for group_id, sent_list in verb_question_bundle.items():\n",
    "    question = {}\n",
    "    ppl_vp = {}\n",
    "    tmp_loc_list = []\n",
    "    id, gt_subj, gt_verb, gt_loc, dt_verb = None, None, None, None, None\n",
    "    for sent in sent_list:\n",
    "        if sent['tag'] == 'ground-truth':\n",
    "            id = sent['gid']\n",
    "            gt_subj = sent['subj']\n",
    "            gt_verb = sent['vp']\n",
    "            gt_loc = sent['loc']\n",
    "        elif sent['tag'] == 'distractor':\n",
    "            dt_verb = sent['vp']\n",
    "        ppl_vp[sent['vp']] = sent['ppl']\n",
    "        tmp_loc_list.append(sent['vp'])\n",
    "    \n",
    "    assert(any([id, gt_subj, gt_verb, gt_loc, dt_verb]) != None)\n",
    "    question['id'] = id\n",
    "    question['subj'] = gt_subj\n",
    "    question['loc'] = gt_loc\n",
    "    question['gt_vp'] = gt_verb\n",
    "    question['dt_vp'] = dt_verb\n",
    "    question['ppl'] = ppl_vp\n",
    "\n",
    "    assert(len(tmp_loc_list) == 5)\n",
    "    random.shuffle(tmp_loc_list) # we shuffle the option's list\n",
    "    ans_idx = tmp_loc_list.index(gt_verb)\n",
    "\n",
    "    gt_subj_the = replace_a_or_the(gt_subj, replace='a')\n",
    "    gt_subj_a = replace_a_or_the(gt_subj, replace='the')\n",
    "\n",
    "    # multiple choice question\n",
    "    choice = f\"What is {gt_subj_the} doing {gt_loc}?\\nA. {tmp_loc_list[0]}\\nB. {tmp_loc_list[1]}\\nC. {tmp_loc_list[2]}\\nD. {tmp_loc_list[3]}\\nE. {tmp_loc_list[4]}\"\n",
    "    # binary question - true\n",
    "    binary_gt = f\"Does the image show that {gt_subj_a} {gt_verb} {gt_loc}?\"\n",
    "    # binary question - false\n",
    "    binary_dt = f\"Does the image show that {gt_subj_a} {dt_verb} {gt_loc}?\"\n",
    "    # open question\n",
    "    open_question = f\"What is {gt_subj_the} doing {gt_loc}?\"\n",
    "\n",
    "    question['choice'] = choice\n",
    "    question['choice answer'] = index_to_letter[ans_idx]\n",
    "    question['binary-yes'] = binary_gt\n",
    "    question['binary-yes answer'] = \"Yes.\"\n",
    "    question['binary-no'] = binary_dt\n",
    "    question['binary-no answer'] = \"No.\"\n",
    "    question['open'] = open_question\n",
    "    question['open answer'] = gt_verb\n",
    "    question['image prompt'] = f\"Generate an image of {gt_subj} {gt_verb} {gt_loc}.\"\n",
    "    \n",
    "    verb_questions.append(question)\n",
    "\n",
    "with open('verb_questions.json', 'w') as f:\n",
    "    json.dump(verb_questions, f)"
   ]
  },
  {
   "cell_type": "code",
   "execution_count": 6,
   "metadata": {},
   "outputs": [],
   "source": [
    "with open('verb_questions-h.txt', 'w') as outfile:\n",
    "    with open('verb_questions.json', 'r') as infile:\n",
    "        j_list = json.load(infile)\n",
    "        for question in j_list:\n",
    "            outfile.write(f\"Question{question['id']}:\\n\\n{question['image prompt']}\\n{question['choice']}\\n\")\n",
    "            outfile.write(f\"Answer: {question['choice answer']}\\n\\n\")\n",
    "            outfile.write(f\"{question['binary-yes']}\\nAnswer: {question['binary-yes answer']}\\n\")\n",
    "            outfile.write(f\"{question['binary-no']}\\nAnswer: {question['binary-no answer']}\\n\\n\")\n",
    "            outfile.write(f\"{question['open']}\\nAnswer: {question['open answer']}\\n\\n\")\n",
    "            outfile.write(f\"PPL: {question['ppl']}\\n\\n\")\n",
    "            outfile.write(\"=\"*10)\n",
    "            outfile.write('\\n')"
   ]
  },
  {
   "cell_type": "code",
   "execution_count": 7,
   "metadata": {},
   "outputs": [],
   "source": [
    "with open('location_candidates.json', 'r') as f:\n",
    "    location_json_list = json.load(f)"
   ]
  },
  {
   "cell_type": "code",
   "execution_count": 8,
   "metadata": {},
   "outputs": [],
   "source": [
    "# options are verb phrases\n",
    "loc_question_bundle = {}\n",
    "for sentence in location_json_list:\n",
    "    group_id = sentence['gid']\n",
    "    if group_id not in loc_question_bundle:\n",
    "        loc_question_bundle[group_id] = [sentence]\n",
    "    else:\n",
    "        loc_question_bundle[group_id].append(sentence)"
   ]
  },
  {
   "cell_type": "code",
   "execution_count": 9,
   "metadata": {},
   "outputs": [],
   "source": [
    "loc_questions = []\n",
    "for group_id, sent_list in loc_question_bundle.items():\n",
    "    question = {}\n",
    "    ppl_loc = {}\n",
    "    tmp_loc_list = []\n",
    "    id, gt_subj, gt_verb, gt_loc, dt_loc = None, None, None, None, None\n",
    "    for sent in sent_list:\n",
    "        if sent['tag'] == 'ground-truth':\n",
    "            id = sent['gid']\n",
    "            gt_subj = sent['subj']\n",
    "            gt_verb = sent['vp']\n",
    "            gt_loc = sent['loc']\n",
    "        elif sent['tag'] == 'distractor':\n",
    "            dt_loc = sent['loc']\n",
    "        ppl_loc[sent['loc']] = sent['ppl']\n",
    "        tmp_loc_list.append(sent['loc'])\n",
    "    \n",
    "    assert(any([id, gt_subj, gt_verb, gt_loc, dt_loc]) != None)\n",
    "    question['id'] = id\n",
    "    question['subj'] = gt_subj\n",
    "    question['vp'] = gt_verb\n",
    "    question['gt_loc'] = gt_loc\n",
    "    question['dt_loc'] = dt_loc\n",
    "    question['ppl'] = ppl_loc\n",
    "\n",
    "    assert(len(tmp_loc_list) == 5)\n",
    "    random.shuffle(tmp_loc_list) # we shuffle the option's list\n",
    "    ans_idx = tmp_loc_list.index(gt_loc)\n",
    "\n",
    "    gt_subj_the = replace_a_or_the(gt_subj, 'a')\n",
    "    gt_subj_a = replace_a_or_the(gt_subj, 'the')\n",
    "    \n",
    "    choice = f\"Where does {gt_subj_the} {gt_verb}?\\nA. {tmp_loc_list[0]}\\nB. {tmp_loc_list[1]}\\nC. {tmp_loc_list[2]}\\nD. {tmp_loc_list[3]}\\nE. {tmp_loc_list[4]}\"\n",
    "    # binary question - true\n",
    "    binary_gt = f\"Does the image show that {gt_subj_a} {gt_verb} {gt_loc}?\"\n",
    "    # binary question - false\n",
    "    binary_dt = f\"Does the image show that {gt_subj_a} {gt_verb} {dt_loc}?\"\n",
    "    # open question\n",
    "    open_question = f\"Where does {gt_subj_the} {gt_verb}?\"\n",
    "\n",
    "    question['choice'] = choice\n",
    "    question['choice answer'] = index_to_letter[ans_idx]\n",
    "    question['binary-yes'] = binary_gt\n",
    "    question['binary-yes answer'] = \"Yes.\"\n",
    "    question['binary-no'] = binary_dt\n",
    "    question['binary-no answer'] = \"No.\"\n",
    "    question['open'] = open_question\n",
    "    question['open answer'] = gt_loc\n",
    "    question['image prompt'] = f\"Generate an image of {gt_subj} {gt_verb} {gt_loc}.\"\n",
    "\n",
    "    loc_questions.append(question)\n",
    "\n",
    "with open('location_questions.json', 'w') as f:\n",
    "    json.dump(loc_questions, f)"
   ]
  },
  {
   "cell_type": "code",
   "execution_count": 11,
   "metadata": {},
   "outputs": [],
   "source": [
    "with open('location_questions-h.txt', 'w') as outfile:\n",
    "    with open('location_questions.json', 'r') as infile:\n",
    "        j_list = json.load(infile)\n",
    "        for question in j_list:\n",
    "            outfile.write(f\"Question{question['id']}:\\n\\n{question['image prompt']}\\n{question['choice']}\\n\")\n",
    "            outfile.write(f\"Answer: {question['choice answer']}\\n\\n\")\n",
    "            outfile.write(f\"{question['binary-yes']}\\nAnswer: {question['binary-yes answer']}\\n\")\n",
    "            outfile.write(f\"{question['binary-no']}\\nAnswer: {question['binary-no answer']}\\n\\n\")\n",
    "            outfile.write(f\"{question['open']}\\nAnswer: {question['open answer']}\\n\\n\")\n",
    "            outfile.write(f\"PPL: {question['ppl']}\\n\\n\")\n",
    "            outfile.write(\"=\"*10)\n",
    "            outfile.write('\\n')"
   ]
  }
 ],
 "metadata": {
  "kernelspec": {
   "display_name": "Python 3",
   "language": "python",
   "name": "python3"
  },
  "language_info": {
   "codemirror_mode": {
    "name": "ipython",
    "version": 3
   },
   "file_extension": ".py",
   "mimetype": "text/x-python",
   "name": "python",
   "nbconvert_exporter": "python",
   "pygments_lexer": "ipython3",
   "version": "3.10.13"
  }
 },
 "nbformat": 4,
 "nbformat_minor": 2
}
