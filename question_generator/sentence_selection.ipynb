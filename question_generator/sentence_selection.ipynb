{
 "cells": [
  {
   "cell_type": "markdown",
   "metadata": {},
   "source": [
    "### Warning: Reading a large json file"
   ]
  },
  {
   "cell_type": "code",
   "execution_count": 2,
   "metadata": {},
   "outputs": [],
   "source": [
    "import json\n",
    "\n",
    "with open(\"../raw_results/omcs/sentence_lookups.json\", 'r') as f:\n",
    "    j_data = json.load(f)\n",
    "sent_data = j_data[\"data\"]"
   ]
  },
  {
   "cell_type": "code",
   "execution_count": 3,
   "metadata": {},
   "outputs": [
    {
     "name": "stdout",
     "output_type": "stream",
     "text": [
      "['a person', 'a man', 'a woman', 'the dog', 'the car', 'the baby', 'the cat', 'the teacher', 'the sun', 'the president', 'the coyote', 'a child', 'the jury', 'a computer', 'the space shuttle', 'the telephone', 'the officer', 'the plant', 'a wallet', 'the farmer', 'a bird', 'the boat', 'a spider', 'the knife', 'a book', 'the waitress', 'parents', 'the glass', 'an owl', 'a ghost', 'a student', 'the dentist', 'the widow', 'a cake', 'a musician', 'the ground', 'the rabbit', 'a crazy man', 'the soldier', 'the boy', 'the police', 'the minister', 'the fireman', 'the hunter', 'a butcher', 'a doctor', 'the king', 'a teacher', 'the patient', 'a programmer']\n",
      "[1988] a person ride a bicycle in the countryside, ppl = 18.0\n",
      "[4488] a man ride a bicycle in the countryside, ppl = 14.83\n",
      "[6988] a woman ride a bicycle in the countryside, ppl = 14.75\n",
      "[8279] the dog drank from a bottle in the refrigerator, ppl = 21.5\n",
      "[10779] the car drank from a bottle in the refrigerator, ppl = 24.31\n",
      "[13279] the baby drank from a bottle in the refrigerator, ppl = 19.51\n",
      "[15779] the cat drank from a bottle in the refrigerator, ppl = 25.9\n",
      "[18279] the teacher drank from a bottle in the refrigerator, ppl = 21.78\n",
      "[20779] the sun drank from a bottle in the refrigerator, ppl = 25.94\n",
      "[23279] the president drank from a bottle in the refrigerator, ppl = 24.63\n",
      "[25779] the coyote drank from a bottle in the refrigerator, ppl = 18.42\n",
      "[29488] a child ride a bicycle in the countryside, ppl = 16.1\n",
      "[30779] the jury drank from a bottle in the refrigerator, ppl = 26.15\n",
      "[34473] a computer lying on the ground in the countryside, ppl = 29.54\n",
      "[36988] the space shuttle ride a bicycle in the countryside, ppl = 23.06\n",
      "[38279] the telephone drank from a bottle in the refrigerator, ppl = 21.52\n",
      "[40779] the officer drank from a bottle in the refrigerator, ppl = 20.7\n",
      "[44488] the plant ride a bicycle in the countryside, ppl = 35.16\n",
      "[46973] a wallet lying on the ground in the countryside, ppl = 28.37\n",
      "[49488] the farmer ride a bicycle in the countryside, ppl = 18.37\n",
      "[51973] a bird lying on the ground in the countryside, ppl = 23.82\n",
      "[53279] the boat drank from a bottle in the refrigerator, ppl = 26.61\n",
      "[56973] a spider lying on the ground in the countryside, ppl = 24.27\n",
      "[58279] the knife drank from a bottle in the refrigerator, ppl = 26.07\n",
      "[61973] a book lying on the ground in the countryside, ppl = 30.09\n",
      "[63279] the waitress drank from a bottle in the refrigerator, ppl = 19.31\n",
      "[66988] parents ride a bicycle in the countryside, ppl = 26.95\n",
      "[68279] the glass drank from a bottle in the refrigerator, ppl = 33.12\n",
      "[71973] an owl lying on the ground in the countryside, ppl = 21.68\n",
      "[73299] a ghost cooking a meal in the refrigerator, ppl = 20.12\n",
      "[76988] a student ride a bicycle in the countryside, ppl = 23.72\n",
      "[78279] the dentist drank from a bottle in the refrigerator, ppl = 22.8\n",
      "[81999] the widow cooking a meal in the countryside, ppl = 21.87\n",
      "[84473] a cake lying on the ground in the countryside, ppl = 27.81\n",
      "[86977] a musician playing the violin in the countryside, ppl = 17.81\n",
      "[89488] the ground ride a bicycle in the countryside, ppl = 28.77\n",
      "[90779] the rabbit drank from a bottle in the refrigerator, ppl = 21.73\n",
      "[94488] a crazy man ride a bicycle in the countryside, ppl = 18.4\n",
      "[95779] the soldier drank from a bottle in the refrigerator, ppl = 23.5\n",
      "[99488] the boy ride a bicycle in the countryside, ppl = 18.19\n",
      "[101988] the police ride a bicycle in the countryside, ppl = 21.49\n",
      "[103279] the minister drank from a bottle in the refrigerator, ppl = 26.21\n",
      "[106988] the fireman ride a bicycle in the countryside, ppl = 25.58\n",
      "[108279] the hunter drank from a bottle in the refrigerator, ppl = 21.22\n",
      "[111999] a butcher cooking a meal in the countryside, ppl = 22.91\n",
      "[114488] a doctor ride a bicycle in the countryside, ppl = 20.43\n",
      "[115770] the king ate a sandwich in the refrigerator, ppl = 26.25\n",
      "[119488] a teacher ride a bicycle in the countryside, ppl = 23.5\n",
      "[120779] the patient drank from a bottle in the refrigerator, ppl = 21.28\n",
      "[123279] a programmer drank from a bottle in the refrigerator, ppl = 33.25\n"
     ]
    }
   ],
   "source": [
    "subjs = []\n",
    "for sent_dict in sent_data:\n",
    "    if sent_dict['subj'] not in subjs:\n",
    "        subjs.append(sent_dict['subj'])\n",
    "print(subjs)\n",
    "base_sentences = []\n",
    "for subject in subjs:\n",
    "    compare_batch = []\n",
    "    for sent_dict in sent_data:\n",
    "            if sent_dict['subj'] == subject:\n",
    "                compare_batch.append(sent_dict)        \n",
    "    assert(len(compare_batch) == 2500)\n",
    "    sorted_compare_list = sorted(compare_batch, key=lambda x: x['ppl'])\n",
    "    base_sentences.append(sorted_compare_list[0])\n",
    "\n",
    "\n",
    "\n",
    "for item in base_sentences:\n",
    "    print(f\"[{item['id']}] {item['text']}, ppl = {item['ppl']}\")"
   ]
  },
  {
   "cell_type": "code",
   "execution_count": 4,
   "metadata": {},
   "outputs": [],
   "source": [
    "# verb phrase test case construction\n",
    "\n",
    "verb_candidate_groups = []\n",
    "ctr = 1\n",
    "for sent_dict in base_sentences:\n",
    "    subject = sent_dict[\"subj\"]\n",
    "    verb_phrase = sent_dict[\"vp\"]\n",
    "    location = sent_dict[\"loc\"]\n",
    "    candidate_batch = []\n",
    "    for sentence in sent_data:\n",
    "        if sentence['subj'] == subject and sentence['loc'] == location:\n",
    "            candidate_batch.append(sentence)\n",
    "    sorted_batch = sorted(candidate_batch, key=lambda x: x['ppl'])\n",
    "    assert(len(sorted_batch) == 50)\n",
    "\n",
    "    distractor = sent_dict.copy()\n",
    "    distractor['tag'] = 'distractor'\n",
    "    distractor['gid'] = ctr\n",
    "    verb_candidate_groups.append(distractor)\n",
    "\n",
    "    gt = sorted_batch[-4].copy()\n",
    "    gt['tag'] = 'ground-truth'\n",
    "    gt['gid'] = ctr\n",
    "    verb_candidate_groups.append(gt)\n",
    "\n",
    "    for item in sorted_batch[-3:]:\n",
    "        option = item.copy()\n",
    "        option['tag'] = 'option'\n",
    "        option['gid'] = ctr\n",
    "        verb_candidate_groups.append(option)\n",
    "    \n",
    "    ctr += 1\n",
    "    \n",
    "\n",
    "with open(\"verb_candidates.json\", 'w') as f:\n",
    "    json.dump(verb_candidate_groups, f)"
   ]
  },
  {
   "cell_type": "code",
   "execution_count": 5,
   "metadata": {},
   "outputs": [],
   "source": [
    "# location test case construction\n",
    "\n",
    "location_groups = []\n",
    "ctr = 1\n",
    "for sent_dict in base_sentences:\n",
    "    subject = sent_dict[\"subj\"]\n",
    "    verb_phrase = sent_dict[\"vp\"]\n",
    "    location = sent_dict[\"loc\"]\n",
    "    candidate_batch = []\n",
    "    for sentence in sent_data:\n",
    "        if sentence['subj'] == subject and sentence['vp'] == verb_phrase:\n",
    "            candidate_batch.append(sentence)\n",
    "    sorted_batch = sorted(candidate_batch, key=lambda x: x['ppl'])\n",
    "    assert(len(sorted_batch) == 50)\n",
    "\n",
    "    distractor = sent_dict.copy()\n",
    "    distractor['tag'] = 'distractor'\n",
    "    distractor['gid'] = ctr\n",
    "    location_groups.append(distractor)\n",
    "\n",
    "    gt = sorted_batch[-4].copy()\n",
    "    gt['tag'] = 'ground-truth'\n",
    "    gt['gid'] = ctr\n",
    "    location_groups.append(gt)\n",
    "\n",
    "    for item in sorted_batch[-3:]:\n",
    "        option = item.copy()\n",
    "        option['tag'] = 'option'\n",
    "        option['gid'] = ctr\n",
    "        location_groups.append(option)\n",
    "\n",
    "    ctr += 1\n",
    "    \n",
    "with open(\"location_candidates.json\", 'w') as f:\n",
    "    json.dump(location_groups, f)"
   ]
  },
  {
   "cell_type": "code",
   "execution_count": null,
   "metadata": {},
   "outputs": [],
   "source": []
  },
  {
   "cell_type": "markdown",
   "metadata": {},
   "source": [
    "### Testing Area"
   ]
  },
  {
   "cell_type": "code",
   "execution_count": 22,
   "metadata": {},
   "outputs": [],
   "source": [
    "# fixed_subj = ['A car bomb', 'A doctor', 'A person']\n",
    "fixed_subj = 'a woman'\n",
    "fixed_loc = \"in the countryside\"\n",
    "# ini_verb_phrase = sent_list[0]['vp']\n",
    "# fixed_verb_phrase = \"lived in the wild\""
   ]
  },
  {
   "cell_type": "code",
   "execution_count": 23,
   "metadata": {},
   "outputs": [
    {
     "name": "stdout",
     "output_type": "stream",
     "text": [
      "Compare Batch Length:  50\n",
      "[6988] a woman ride a bicycle in the countryside, ppl = 14.75\n",
      "[6999] a woman cooking a meal in the countryside, ppl = 15.39\n",
      "[6973] a woman lying on the ground in the countryside, ppl = 17.43\n",
      "[6957] a woman walking in the rain in the countryside, ppl = 18.26\n",
      "[6977] a woman playing the violin in the countryside, ppl = 18.84\n",
      "[6986] a woman climbing a mountain in the countryside, ppl = 19.7\n",
      "[6981] a woman chopping firewood in the countryside, ppl = 21.07\n",
      "[6998] a woman watering a plant in the countryside, ppl = 21.59\n",
      "[6968] a woman eating vegetables in the countryside, ppl = 21.9\n",
      "[6962] a woman stared out the window in the countryside, ppl = 24.3\n",
      "[6980] a woman washed the laundry in the countryside, ppl = 24.78\n",
      "[6976] a woman going to a place in the countryside, ppl = 25.64\n",
      "[6979] a woman drank from a bottle in the countryside, ppl = 25.95\n",
      "[6954] a woman went camping in the countryside, ppl = 26.94\n",
      "[6964] a woman eating a cookie in the countryside, ppl = 27.2\n",
      "[6959] a woman drive a car in the countryside, ppl = 27.9\n",
      "[6992] a woman weeding the garden in the countryside, ppl = 28.13\n",
      "[6970] a woman ate a sandwich in the countryside, ppl = 28.82\n",
      "[6955] a woman building a cathedral in the countryside, ppl = 29.19\n",
      "[6994] a woman climb a mountain in the countryside, ppl = 30.46\n",
      "[6960] a woman read a book in the countryside, ppl = 32.89\n",
      "[6982] a woman listen to music in the countryside, ppl = 33.63\n",
      "[6963] a woman having a party in the countryside, ppl = 33.66\n",
      "[6990] a woman swept the floor in the countryside, ppl = 36.6\n",
      "[6953] a woman built a snowman in the countryside, ppl = 37.02\n",
      "[6978] a woman play soccer in the countryside, ppl = 37.8\n",
      "[6975] a woman eat an apple in the countryside, ppl = 38.24\n",
      "[6952] a woman wrote a book in the countryside, ppl = 39.02\n",
      "[6956] a woman play a game in the countryside, ppl = 42.42\n",
      "[6961] a woman watching tv in the countryside, ppl = 42.72\n",
      "[6987] a woman start a fire in the countryside, ppl = 44.52\n",
      "[6989] a woman use a calculator in the countryside, ppl = 44.78\n",
      "[6972] a woman stole some money in the countryside, ppl = 46.6\n",
      "[6958] a woman watched the movie in the countryside, ppl = 50.91\n",
      "[6951] a woman taught a class in the countryside, ppl = 51.9\n",
      "[6969] a woman stay in bed in the countryside, ppl = 52.4\n",
      "[6995] a woman broke a glass in the countryside, ppl = 54.41\n",
      "[6991] a woman settled on the shelf in the countryside, ppl = 55.26\n",
      "[6950] a woman sent a letter in the countryside, ppl = 56.03\n",
      "[6971] a woman attacked the mailman in the countryside, ppl = 57.13\n",
      "[6997] a woman play football in the countryside, ppl = 57.86\n",
      "[6996] a woman scared the cat in the countryside, ppl = 60.02\n",
      "[6965] a woman fixing a computer in the countryside, ppl = 60.11\n",
      "[6966] a woman eat breakfast in the countryside, ppl = 60.53\n",
      "[6984] a woman threw a coin in the countryside, ppl = 60.69\n",
      "[6983] a woman ran up the tree in the countryside, ppl = 60.77\n",
      "[6993] a woman writing a program in the countryside, ppl = 61.66\n",
      "[6974] a woman opened the wallet in the countryside, ppl = 62.04\n",
      "[6985] a woman find a potato in the countryside, ppl = 67.37\n",
      "[6967] a woman taught mathematics in the countryside, ppl = 74.95\n"
     ]
    }
   ],
   "source": [
    "compare_batch = []\n",
    "for sent_dict in sent_data:\n",
    "    if sent_dict['subj'] == fixed_subj and sent_dict['loc'] == fixed_loc:\n",
    "        compare_batch.append(sent_dict)\n",
    "\n",
    "print(\"Compare Batch Length: \", len(compare_batch))\n",
    "sorted_compare_list = sorted(compare_batch, key=lambda x: x['ppl'])\n",
    "for item in sorted_compare_list:\n",
    "    print(f\"[{item['id']}] {item['text']}, ppl = {item['ppl']}\")"
   ]
  },
  {
   "cell_type": "code",
   "execution_count": 28,
   "metadata": {},
   "outputs": [
    {
     "name": "stdout",
     "output_type": "stream",
     "text": [
      "3\n",
      "4\n"
     ]
    }
   ],
   "source": [
    "num_list = [1, 2, 3, 4, 5]\n",
    "for i in num_list[-3:-1]:\n",
    "    print(i)\n",
    "# print(num_list[-1])"
   ]
  }
 ],
 "metadata": {
  "kernelspec": {
   "display_name": "spacy",
   "language": "python",
   "name": "python3"
  },
  "language_info": {
   "codemirror_mode": {
    "name": "ipython",
    "version": 3
   },
   "file_extension": ".py",
   "mimetype": "text/x-python",
   "name": "python",
   "nbconvert_exporter": "python",
   "pygments_lexer": "ipython3",
   "version": "3.10.6"
  }
 },
 "nbformat": 4,
 "nbformat_minor": 2
}
