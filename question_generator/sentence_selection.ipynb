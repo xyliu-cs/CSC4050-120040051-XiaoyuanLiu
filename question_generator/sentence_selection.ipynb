{
 "cells": [
  {
   "cell_type": "code",
   "execution_count": 7,
   "metadata": {},
   "outputs": [
    {
     "name": "stdout",
     "output_type": "stream",
     "text": [
      "Compare Batch Length:  16\n",
      "[323] A couple achieve enlightenment on shopping television channel QVC, ppl = 58.88\n",
      "[322] A couple accept a job on shopping television channel QVC, ppl = 114.51\n",
      "[330] A couple alleviate suffering on shopping television channel QVC, ppl = 128.66\n",
      "[321] A couple 's a tradition on shopping television channel QVC, ppl = 185.72\n",
      "[328] A couple affected pets on shopping television channel QVC, ppl = 267.51\n",
      "[335] A couple allow a stirrup on shopping television channel QVC, ppl = 299.29\n",
      "[331] A couple allow players on shopping television channel QVC, ppl = 311.31\n",
      "[336] A couple allowed horses on shopping television channel QVC, ppl = 355.99\n",
      "[333] A couple allow air on shopping television channel QVC, ppl = 360.95\n",
      "[329] A couple aging fleet on shopping television channel QVC, ppl = 370.51\n",
      "[324] A couple admitted the patient on shopping television channel QVC, ppl = 389.78\n",
      "[327] A couple affected areas on shopping television channel QVC, ppl = 393.53\n",
      "[334] A couple allow fabric on shopping television channel QVC, ppl = 471.63\n",
      "[325] A couple affect behaviour on shopping television channel QVC, ppl = 493.29\n",
      "[326] A couple affect any travel on shopping television channel QVC, ppl = 557.29\n",
      "[332] A couple allow aircraft on shopping television channel QVC, ppl = 632.95\n"
     ]
    }
   ],
   "source": [
    "import json\n",
    "\n",
    "with open(\"../raw_results/flore_200/sentence_table.json\", 'r') as f:\n",
    "    j_data = json.load(f)\n",
    "sent_list = j_data[\"data\"]\n",
    "\n",
    "ini_subj = sent_list[320]['subj']\n",
    "ini_verb_phrase = sent_list[0]['vp']\n",
    "ini_location = sent_list[0]['loc']\n",
    "\n",
    "compare_batch = []\n",
    "for sent_dict in sent_list:\n",
    "    if sent_dict['subj'] == ini_subj and sent_dict['loc'] == ini_location:\n",
    "        compare_batch.append(sent_dict)\n",
    "\n",
    "print(\"Compare Batch Length: \", len(compare_batch))\n",
    "sorted_compare_list = sorted(compare_batch, key=lambda x: x['ppl'])\n",
    "for item in sorted_compare_list:\n",
    "    print(f\"[{item['id']}] {item['text']}, ppl = {item['ppl']}\")"
   ]
  },
  {
   "cell_type": "code",
   "execution_count": null,
   "metadata": {},
   "outputs": [],
   "source": [
    "test_position = 'vb'\n",
    "base_id = 324\n",
    "prior_ids = [323, 322, 330, 335]"
   ]
  },
  {
   "cell_type": "code",
   "execution_count": 8,
   "metadata": {},
   "outputs": [],
   "source": [
    "def image_prompt(batch, base):\n",
    "    for image_dict in batch:\n",
    "        if image_dict['id'] == base:\n",
    "            return f\"Generate an image of {image_dict['text']}\""
   ]
  },
  {
   "cell_type": "code",
   "execution_count": 9,
   "metadata": {},
   "outputs": [
    {
     "data": {
      "text/plain": [
       "'Generate an image of A couple admitted the patient on shopping television channel QVC'"
      ]
     },
     "execution_count": 9,
     "metadata": {},
     "output_type": "execute_result"
    }
   ],
   "source": [
    "image_prompt(compare_batch, 324)"
   ]
  },
  {
   "cell_type": "code",
   "execution_count": null,
   "metadata": {},
   "outputs": [],
   "source": [
    "def question_generator(batch, base_id, prior_ids, type):\n",
    "    questions = {}\n",
    "    base_dict = {}\n",
    "    priors_list = []\n",
    "    for image_dict in batch:\n",
    "        if image_dict['id'] == base_id:\n",
    "            base_dict = image_dict\n",
    "        elif image_dict['id'] in prior_ids:\n",
    "            priors_list.append(image_dict)\n",
    "    \n",
    "    # Y/N question\n",
    "    # May need to re-parse the sentence"
   ]
  }
 ],
 "metadata": {
  "kernelspec": {
   "display_name": "spacy",
   "language": "python",
   "name": "python3"
  },
  "language_info": {
   "codemirror_mode": {
    "name": "ipython",
    "version": 3
   },
   "file_extension": ".py",
   "mimetype": "text/x-python",
   "name": "python",
   "nbconvert_exporter": "python",
   "pygments_lexer": "ipython3",
   "version": "3.10.13"
  }
 },
 "nbformat": 4,
 "nbformat_minor": 2
}
